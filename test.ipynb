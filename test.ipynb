{
 "cells": [
  {
   "cell_type": "code",
   "execution_count": 22,
   "id": "f5ff546c-e7c0-4437-a5f8-41bda6fa31ac",
   "metadata": {},
   "outputs": [],
   "source": [
    "import numpy as np\n",
    "import pandas as pd\n",
    "import matplotlib.pyplot as plt\n",
    "import sklearn"
   ]
  },
  {
   "cell_type": "code",
   "execution_count": 24,
   "id": "72e662a9-9cfe-4687-93ee-59b59d9bcfc9",
   "metadata": {},
   "outputs": [
    {
     "name": "stdout",
     "output_type": "stream",
     "text": [
      "<class 'sklearn.utils._bunch.Bunch'>\n",
      "dict_keys(['frame'])\n"
     ]
    },
    {
     "data": {
      "text/html": [
       "<div>\n",
       "<style scoped>\n",
       "    .dataframe tbody tr th:only-of-type {\n",
       "        vertical-align: middle;\n",
       "    }\n",
       "\n",
       "    .dataframe tbody tr th {\n",
       "        vertical-align: top;\n",
       "    }\n",
       "\n",
       "    .dataframe thead th {\n",
       "        text-align: right;\n",
       "    }\n",
       "</style>\n",
       "<table border=\"1\" class=\"dataframe\">\n",
       "  <thead>\n",
       "    <tr style=\"text-align: right;\">\n",
       "      <th></th>\n",
       "      <th>sepal length (cm)</th>\n",
       "      <th>sepal width (cm)</th>\n",
       "      <th>petal length (cm)</th>\n",
       "      <th>petal width (cm)</th>\n",
       "      <th>label</th>\n",
       "    </tr>\n",
       "  </thead>\n",
       "  <tbody>\n",
       "    <tr>\n",
       "      <th>78</th>\n",
       "      <td>6.0</td>\n",
       "      <td>2.9</td>\n",
       "      <td>4.5</td>\n",
       "      <td>1.5</td>\n",
       "      <td>versicolor</td>\n",
       "    </tr>\n",
       "    <tr>\n",
       "      <th>88</th>\n",
       "      <td>5.6</td>\n",
       "      <td>3.0</td>\n",
       "      <td>4.1</td>\n",
       "      <td>1.3</td>\n",
       "      <td>versicolor</td>\n",
       "    </tr>\n",
       "    <tr>\n",
       "      <th>28</th>\n",
       "      <td>5.2</td>\n",
       "      <td>3.4</td>\n",
       "      <td>1.4</td>\n",
       "      <td>0.2</td>\n",
       "      <td>setosa</td>\n",
       "    </tr>\n",
       "    <tr>\n",
       "      <th>106</th>\n",
       "      <td>4.9</td>\n",
       "      <td>2.5</td>\n",
       "      <td>4.5</td>\n",
       "      <td>1.7</td>\n",
       "      <td>virginica</td>\n",
       "    </tr>\n",
       "    <tr>\n",
       "      <th>44</th>\n",
       "      <td>5.1</td>\n",
       "      <td>3.8</td>\n",
       "      <td>1.9</td>\n",
       "      <td>0.4</td>\n",
       "      <td>setosa</td>\n",
       "    </tr>\n",
       "  </tbody>\n",
       "</table>\n",
       "</div>"
      ],
      "text/plain": [
       "     sepal length (cm)  sepal width (cm)  petal length (cm)  petal width (cm)  \\\n",
       "78                 6.0               2.9                4.5               1.5   \n",
       "88                 5.6               3.0                4.1               1.3   \n",
       "28                 5.2               3.4                1.4               0.2   \n",
       "106                4.9               2.5                4.5               1.7   \n",
       "44                 5.1               3.8                1.9               0.4   \n",
       "\n",
       "          label  \n",
       "78   versicolor  \n",
       "88   versicolor  \n",
       "28       setosa  \n",
       "106   virginica  \n",
       "44       setosa  "
      ]
     },
     "execution_count": 24,
     "metadata": {},
     "output_type": "execute_result"
    }
   ],
   "source": [
    "from sklearn.utils import Bunch\n",
    "\n",
    "iris = Bunch()\n",
    "print(type(iris))\n",
    "iris.frame = pd.read_csv('iris.csv')\n",
    "print(iris.keys())\n",
    "iris.frame.sample(5)"
   ]
  },
  {
   "cell_type": "code",
   "execution_count": 25,
   "id": "be5823f9-a774-45ab-8495-ddc2cae3bdc7",
   "metadata": {},
   "outputs": [
    {
     "data": {
      "text/plain": [
       "label\n",
       "0    50\n",
       "1    50\n",
       "2    50\n",
       "Name: count, dtype: int64"
      ]
     },
     "execution_count": 25,
     "metadata": {},
     "output_type": "execute_result"
    }
   ],
   "source": [
    "iris.target = iris.frame['label']\n",
    "iris.target = iris.target.map({'setosa':0, 'versicolor':1, 'virginica':2})\n",
    "iris.target.value_counts()"
   ]
  },
  {
   "cell_type": "code",
   "execution_count": 26,
   "id": "41dee294-8662-4992-ae09-a2d1b19b241f",
   "metadata": {},
   "outputs": [
    {
     "name": "stdout",
     "output_type": "stream",
     "text": [
      "['sepal length (cm)', 'sepal width (cm)', 'petal length (cm)', 'petal width (cm)']\n"
     ]
    },
    {
     "data": {
      "text/html": [
       "<div>\n",
       "<style scoped>\n",
       "    .dataframe tbody tr th:only-of-type {\n",
       "        vertical-align: middle;\n",
       "    }\n",
       "\n",
       "    .dataframe tbody tr th {\n",
       "        vertical-align: top;\n",
       "    }\n",
       "\n",
       "    .dataframe thead th {\n",
       "        text-align: right;\n",
       "    }\n",
       "</style>\n",
       "<table border=\"1\" class=\"dataframe\">\n",
       "  <thead>\n",
       "    <tr style=\"text-align: right;\">\n",
       "      <th></th>\n",
       "      <th>sepal length (cm)</th>\n",
       "      <th>sepal width (cm)</th>\n",
       "      <th>petal length (cm)</th>\n",
       "      <th>petal width (cm)</th>\n",
       "    </tr>\n",
       "  </thead>\n",
       "  <tbody>\n",
       "    <tr>\n",
       "      <th>40</th>\n",
       "      <td>5.0</td>\n",
       "      <td>3.5</td>\n",
       "      <td>1.3</td>\n",
       "      <td>0.3</td>\n",
       "    </tr>\n",
       "    <tr>\n",
       "      <th>29</th>\n",
       "      <td>4.7</td>\n",
       "      <td>3.2</td>\n",
       "      <td>1.6</td>\n",
       "      <td>0.2</td>\n",
       "    </tr>\n",
       "    <tr>\n",
       "      <th>48</th>\n",
       "      <td>5.3</td>\n",
       "      <td>3.7</td>\n",
       "      <td>1.5</td>\n",
       "      <td>0.2</td>\n",
       "    </tr>\n",
       "    <tr>\n",
       "      <th>124</th>\n",
       "      <td>6.7</td>\n",
       "      <td>3.3</td>\n",
       "      <td>5.7</td>\n",
       "      <td>2.1</td>\n",
       "    </tr>\n",
       "    <tr>\n",
       "      <th>102</th>\n",
       "      <td>7.1</td>\n",
       "      <td>3.0</td>\n",
       "      <td>5.9</td>\n",
       "      <td>2.1</td>\n",
       "    </tr>\n",
       "  </tbody>\n",
       "</table>\n",
       "</div>"
      ],
      "text/plain": [
       "     sepal length (cm)  sepal width (cm)  petal length (cm)  petal width (cm)\n",
       "40                 5.0               3.5                1.3               0.3\n",
       "29                 4.7               3.2                1.6               0.2\n",
       "48                 5.3               3.7                1.5               0.2\n",
       "124                6.7               3.3                5.7               2.1\n",
       "102                7.1               3.0                5.9               2.1"
      ]
     },
     "execution_count": 26,
     "metadata": {},
     "output_type": "execute_result"
    }
   ],
   "source": [
    "iris.data = iris.frame.drop(columns = 'label')\n",
    "iris.feature_names = iris.data.columns.tolist()\n",
    "print(iris.feature_names)\n",
    "iris.data.sample(5)"
   ]
  },
  {
   "cell_type": "code",
   "execution_count": 32,
   "id": "0d139223-18d1-4f30-9db5-29ebbedabbbf",
   "metadata": {},
   "outputs": [
    {
     "data": {
      "text/plain": [
       "['iris.joblib']"
      ]
     },
     "execution_count": 32,
     "metadata": {},
     "output_type": "execute_result"
    }
   ],
   "source": [
    "import joblib\n",
    "\n",
    "joblib.dump(iris, 'iris.joblib')"
   ]
  },
  {
   "cell_type": "code",
   "execution_count": 36,
   "id": "56f0cb82-d86e-41a9-9678-acc73eaf6c34",
   "metadata": {},
   "outputs": [
    {
     "name": "stdout",
     "output_type": "stream",
     "text": [
      "dict_keys(['data', 'target', 'frame', 'target_names', 'DESCR', 'feature_names', 'filename', 'data_module'])\n"
     ]
    },
    {
     "data": {
      "text/html": [
       "<div>\n",
       "<style scoped>\n",
       "    .dataframe tbody tr th:only-of-type {\n",
       "        vertical-align: middle;\n",
       "    }\n",
       "\n",
       "    .dataframe tbody tr th {\n",
       "        vertical-align: top;\n",
       "    }\n",
       "\n",
       "    .dataframe thead th {\n",
       "        text-align: right;\n",
       "    }\n",
       "</style>\n",
       "<table border=\"1\" class=\"dataframe\">\n",
       "  <thead>\n",
       "    <tr style=\"text-align: right;\">\n",
       "      <th></th>\n",
       "      <th>sepal length (cm)</th>\n",
       "      <th>sepal width (cm)</th>\n",
       "      <th>petal length (cm)</th>\n",
       "      <th>petal width (cm)</th>\n",
       "      <th>target</th>\n",
       "    </tr>\n",
       "  </thead>\n",
       "  <tbody>\n",
       "    <tr>\n",
       "      <th>29</th>\n",
       "      <td>4.7</td>\n",
       "      <td>3.2</td>\n",
       "      <td>1.6</td>\n",
       "      <td>0.2</td>\n",
       "      <td>0</td>\n",
       "    </tr>\n",
       "    <tr>\n",
       "      <th>47</th>\n",
       "      <td>4.6</td>\n",
       "      <td>3.2</td>\n",
       "      <td>1.4</td>\n",
       "      <td>0.2</td>\n",
       "      <td>0</td>\n",
       "    </tr>\n",
       "    <tr>\n",
       "      <th>61</th>\n",
       "      <td>5.9</td>\n",
       "      <td>3.0</td>\n",
       "      <td>4.2</td>\n",
       "      <td>1.5</td>\n",
       "      <td>1</td>\n",
       "    </tr>\n",
       "    <tr>\n",
       "      <th>139</th>\n",
       "      <td>6.9</td>\n",
       "      <td>3.1</td>\n",
       "      <td>5.4</td>\n",
       "      <td>2.1</td>\n",
       "      <td>2</td>\n",
       "    </tr>\n",
       "    <tr>\n",
       "      <th>2</th>\n",
       "      <td>4.7</td>\n",
       "      <td>3.2</td>\n",
       "      <td>1.3</td>\n",
       "      <td>0.2</td>\n",
       "      <td>0</td>\n",
       "    </tr>\n",
       "  </tbody>\n",
       "</table>\n",
       "</div>"
      ],
      "text/plain": [
       "     sepal length (cm)  sepal width (cm)  petal length (cm)  petal width (cm)  \\\n",
       "29                 4.7               3.2                1.6               0.2   \n",
       "47                 4.6               3.2                1.4               0.2   \n",
       "61                 5.9               3.0                4.2               1.5   \n",
       "139                6.9               3.1                5.4               2.1   \n",
       "2                  4.7               3.2                1.3               0.2   \n",
       "\n",
       "     target  \n",
       "29        0  \n",
       "47        0  \n",
       "61        1  \n",
       "139       2  \n",
       "2         0  "
      ]
     },
     "execution_count": 36,
     "metadata": {},
     "output_type": "execute_result"
    }
   ],
   "source": [
    "from sklearn.datasets import load_iris\n",
    "\n",
    "iris = load_iris(as_frame=True)\n",
    "print(iris.keys())\n",
    "iris.frame.sample(5)"
   ]
  },
  {
   "cell_type": "code",
   "execution_count": 37,
   "id": "4d82e7be-223b-4bf8-8479-0ab1bbc0220e",
   "metadata": {},
   "outputs": [
    {
     "name": "stdout",
     "output_type": "stream",
     "text": [
      "38/150\n"
     ]
    }
   ],
   "source": [
    "표본수 = len(iris.frame)\n",
    "시험데이터비율 = 0.25\n",
    "시험데이터수 = round(표본수 * 시험데이터비율)\n",
    "print(f'{시험데이터수}/{표본수}')"
   ]
  },
  {
   "cell_type": "code",
   "execution_count": 39,
   "id": "3f352154-bcae-4cfc-acd6-4fb1d65f0fc5",
   "metadata": {},
   "outputs": [],
   "source": [
    "난수생성기 = np.random.default_rng(1)\n",
    "무작위순서 = 난수생성기.permutation(표본수)"
   ]
  },
  {
   "cell_type": "code",
   "execution_count": 41,
   "id": "affdecfd-2400-4056-a0e5-354971453931",
   "metadata": {},
   "outputs": [
    {
     "name": "stdout",
     "output_type": "stream",
     "text": [
      "(112, 4) (38, 4)\n",
      "(112,) (38,)\n"
     ]
    }
   ],
   "source": [
    "train_data = iris.data.iloc[무작위순서][:-시험데이터수]\n",
    "test_data = iris.data.iloc[무작위순서][-시험데이터수:]\n",
    "\n",
    "train_target = iris.target[무작위순서][:-시험데이터수]\n",
    "test_target = iris.target[무작위순서][-시험데이터수:]\n",
    "\n",
    "print(train_data.shape, test_data.shape)\n",
    "print(train_target.shape, test_target.shape)"
   ]
  },
  {
   "cell_type": "code",
   "execution_count": 42,
   "id": "04ceca2c-3542-4059-85d4-8168d7ac43c5",
   "metadata": {},
   "outputs": [
    {
     "name": "stdout",
     "output_type": "stream",
     "text": [
      "(112, 4) (38, 4)\n"
     ]
    }
   ],
   "source": [
    "from sklearn.model_selection import train_test_split\n",
    "\n",
    "train_data, test_data, train_target, test_target = train_test_split(\n",
    "    iris.data, iris.target, test_size=0.25, shuffle=True, random_state=0, stratify=iris.target\n",
    ")\n",
    "\n",
    "print(train_data.shape, test_data.shape)"
   ]
  },
  {
   "cell_type": "code",
   "execution_count": 43,
   "id": "d6c96aa6-bc0e-4925-abe6-f17738f7f204",
   "metadata": {},
   "outputs": [
    {
     "name": "stdout",
     "output_type": "stream",
     "text": [
      "37/38\n"
     ]
    }
   ],
   "source": [
    "from sklearn.neighbors import KNeighborsClassifier\n",
    "\n",
    "model = KNeighborsClassifier(n_neighbors=1)\n",
    "model.fit(train_data, train_target)\n",
    "\n",
    "예측 = model.predict(test_data)\n",
    "채점 = 예측 == test_target\n",
    "print(f'{sum(채점)}/{len(채점)}')"
   ]
  },
  {
   "cell_type": "code",
   "execution_count": 44,
   "id": "96be2d6c-f10b-4e07-b7d0-76fd6ca7a48f",
   "metadata": {},
   "outputs": [
    {
     "name": "stdout",
     "output_type": "stream",
     "text": [
      "0    4.526\n",
      "1    3.585\n",
      "2    3.521\n",
      "3    3.413\n",
      "4    3.422\n",
      "Name: MedHouseVal, dtype: float64\n"
     ]
    },
    {
     "data": {
      "text/html": [
       "<div>\n",
       "<style scoped>\n",
       "    .dataframe tbody tr th:only-of-type {\n",
       "        vertical-align: middle;\n",
       "    }\n",
       "\n",
       "    .dataframe tbody tr th {\n",
       "        vertical-align: top;\n",
       "    }\n",
       "\n",
       "    .dataframe thead th {\n",
       "        text-align: right;\n",
       "    }\n",
       "</style>\n",
       "<table border=\"1\" class=\"dataframe\">\n",
       "  <thead>\n",
       "    <tr style=\"text-align: right;\">\n",
       "      <th></th>\n",
       "      <th>MedInc</th>\n",
       "      <th>HouseAge</th>\n",
       "      <th>AveRooms</th>\n",
       "      <th>AveBedrms</th>\n",
       "      <th>Population</th>\n",
       "      <th>AveOccup</th>\n",
       "      <th>Latitude</th>\n",
       "      <th>Longitude</th>\n",
       "      <th>MedHouseVal</th>\n",
       "    </tr>\n",
       "  </thead>\n",
       "  <tbody>\n",
       "    <tr>\n",
       "      <th>1392</th>\n",
       "      <td>4.36</td>\n",
       "      <td>20.0</td>\n",
       "      <td>6.21</td>\n",
       "      <td>1.06</td>\n",
       "      <td>1679.0</td>\n",
       "      <td>2.75</td>\n",
       "      <td>37.96</td>\n",
       "      <td>-122.10</td>\n",
       "      <td>2.28</td>\n",
       "    </tr>\n",
       "    <tr>\n",
       "      <th>7062</th>\n",
       "      <td>5.27</td>\n",
       "      <td>35.0</td>\n",
       "      <td>6.01</td>\n",
       "      <td>1.01</td>\n",
       "      <td>1386.0</td>\n",
       "      <td>3.37</td>\n",
       "      <td>33.93</td>\n",
       "      <td>-118.03</td>\n",
       "      <td>1.80</td>\n",
       "    </tr>\n",
       "    <tr>\n",
       "      <th>7710</th>\n",
       "      <td>5.20</td>\n",
       "      <td>37.0</td>\n",
       "      <td>6.19</td>\n",
       "      <td>1.03</td>\n",
       "      <td>600.0</td>\n",
       "      <td>2.54</td>\n",
       "      <td>33.95</td>\n",
       "      <td>-118.14</td>\n",
       "      <td>3.02</td>\n",
       "    </tr>\n",
       "    <tr>\n",
       "      <th>10744</th>\n",
       "      <td>10.30</td>\n",
       "      <td>36.0</td>\n",
       "      <td>8.13</td>\n",
       "      <td>1.19</td>\n",
       "      <td>316.0</td>\n",
       "      <td>2.51</td>\n",
       "      <td>33.61</td>\n",
       "      <td>-117.92</td>\n",
       "      <td>5.00</td>\n",
       "    </tr>\n",
       "    <tr>\n",
       "      <th>15105</th>\n",
       "      <td>3.31</td>\n",
       "      <td>17.0</td>\n",
       "      <td>4.85</td>\n",
       "      <td>1.03</td>\n",
       "      <td>7302.0</td>\n",
       "      <td>2.30</td>\n",
       "      <td>32.83</td>\n",
       "      <td>-117.01</td>\n",
       "      <td>1.22</td>\n",
       "    </tr>\n",
       "  </tbody>\n",
       "</table>\n",
       "</div>"
      ],
      "text/plain": [
       "       MedInc  HouseAge  AveRooms  AveBedrms  Population  AveOccup  Latitude  \\\n",
       "1392     4.36      20.0      6.21       1.06      1679.0      2.75     37.96   \n",
       "7062     5.27      35.0      6.01       1.01      1386.0      3.37     33.93   \n",
       "7710     5.20      37.0      6.19       1.03       600.0      2.54     33.95   \n",
       "10744   10.30      36.0      8.13       1.19       316.0      2.51     33.61   \n",
       "15105    3.31      17.0      4.85       1.03      7302.0      2.30     32.83   \n",
       "\n",
       "       Longitude  MedHouseVal  \n",
       "1392     -122.10         2.28  \n",
       "7062     -118.03         1.80  \n",
       "7710     -118.14         3.02  \n",
       "10744    -117.92         5.00  \n",
       "15105    -117.01         1.22  "
      ]
     },
     "execution_count": 44,
     "metadata": {},
     "output_type": "execute_result"
    }
   ],
   "source": [
    "from sklearn.datasets import fetch_california_housing\n",
    "\n",
    "housing = fetch_california_housing(as_frame = True)\n",
    "print(housing.target[:5])\n",
    "housing.frame.sample(5).round(2)"
   ]
  },
  {
   "cell_type": "code",
   "execution_count": 53,
   "id": "5144ef13-b134-4caf-b4ab-c4c58dbb2a38",
   "metadata": {},
   "outputs": [
    {
     "data": {
      "text/plain": [
       "array([[5.1, 1.4],\n",
       "       [4.9, 1.4],\n",
       "       [4.7, 1.3]])"
      ]
     },
     "execution_count": 53,
     "metadata": {},
     "output_type": "execute_result"
    }
   ],
   "source": [
    "iris.data.to_numpy()[:3, [0, 2]]"
   ]
  },
  {
   "cell_type": "code",
   "execution_count": 56,
   "id": "88b85dee-f84e-41eb-b26b-4679dc08c721",
   "metadata": {},
   "outputs": [
    {
     "name": "stdout",
     "output_type": "stream",
     "text": [
      "y_pred = [0 1]\n"
     ]
    },
    {
     "data": {
      "image/png": "[encoded data removed]",
      "text/plain": [
       "<Figure size 640x480 with 2 Axes>"
      ]
     },
     "metadata": {},
     "output_type": "display_data"
    }
   ],
   "source": [
    "from sklearn.neighbors import KNeighborsClassifier\n",
    "from sklearn.model_selection import train_test_split\n",
    "\n",
    "train_data, test_data, train_target, test_target = train_test_split(\n",
    "    iris.data.iloc[:, [0, 2]].to_numpy(), iris.target, test_size = 0.25, random_state=0, stratify=iris.target\n",
    ")\n",
    "이웃수 = 3\n",
    "\n",
    "model = KNeighborsClassifier(n_neighbors=이웃수)\n",
    "model.fit(train_data, train_target)\n",
    "\n",
    "iris.frame.plot(kind='scatter', x=0, y=2, c=iris.target,cmap='brg')\n",
    "plt.scatter(test_data[:,0], test_data[:,1], marker='+', c='black')\n",
    "\n",
    "new_data = np.array([(5.0, 2.0), (5.0, 4.3)])\n",
    "예측 = model.predict(new_data)\n",
    "print(f'y_pred = {예측}')\n",
    "유형별색상맵핑 = np.array(['blue', 'red', 'green'])\n",
    "plt.scatter(new_data[:,0], new_data[:,1], marker='*', s=50, c=유형별색상맵핑[예측])\n",
    "plt.show()"
   ]
  },
  {
   "cell_type": "code",
   "execution_count": 57,
   "id": "c5d72fb4-88e5-46dc-9d2a-b4fea0cc0c60",
   "metadata": {},
   "outputs": [
    {
     "name": "stdout",
     "output_type": "stream",
     "text": [
      "최근접이웃: 41, xi=[5.1 1.9]\n",
      "xq=[5. 2.] -> 예측: 0\n"
     ]
    },
    {
     "data": {
      "text/plain": [
       "41    0.14\n",
       "79    0.40\n",
       "9     0.40\n",
       "14    0.40\n",
       "54    0.45\n",
       "dtype: float64"
      ]
     },
     "execution_count": 57,
     "metadata": {},
     "output_type": "execute_result"
    }
   ],
   "source": [
    "거리산출 = lambda x1, x2: np.sqrt(np.sum((x1 - x2)**2))\n",
    "\n",
    "xq = new_data[0]\n",
    "\n",
    "거리 = []\n",
    "for xi in train_data:\n",
    "    거리.append(거리산출(xq, xi))\n",
    "\n",
    "거리 = pd.Series(거리)\n",
    "최근접이웃 = 거리.idxmin()\n",
    "print(f'최근접이웃: {최근접이웃}, xi={train_data[최근접이웃]}')\n",
    "print(f'xq={xq}', end=' -> ')\n",
    "print(f'예측: {train_target[최근접이웃]}')\n",
    "거리.sort_values().head().round(2)"
   ]
  },
  {
   "cell_type": "code",
   "execution_count": null,
   "id": "44062937-b517-4fec-82ea-1b3d308785e6",
   "metadata": {},
   "outputs": [],
   "source": []
  }
 ],
 "metadata": {
  "kernelspec": {
   "display_name": "Python 3 (ipykernel)",
   "language": "python",
   "name": "python3"
  },
  "language_info": {
   "codemirror_mode": {
    "name": "ipython",
    "version": 3
   },
   "file_extension": ".py",
   "mimetype": "text/x-python",
   "name": "python",
   "nbconvert_exporter": "python",
   "pygments_lexer": "ipython3",
   "version": "3.10.13"
  }
 },
 "nbformat": 4,
 "nbformat_minor": 5
}
